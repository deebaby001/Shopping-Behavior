{
 "cells": [
  {
   "cell_type": "markdown",
   "metadata": {},
   "source": [
    "## Data Analysis I\n",
    "\n",
    "Lastly, we will answer the following questions using pandas methods: \n",
    "\n",
    "* What are the most popular colors by season?\n",
    "* What is the most popular clothing item by season?\n",
    "* What is the effect of promo-codes on the dollar-amount of purchases?\n",
    "* When do users leave a review?\n",
    "* Do states vary in the items they purchase in the Fall?\n",
    "\n",
    "Utilize the documentation provided in each code-block. When you are done with this section of the project, validate that your output matches the screenshot provided in the `docs/part3.md` file and answer the questions located underneath `Data Analysis II` in your own words."
   ]
  },
  {
   "cell_type": "code",
   "execution_count": 51,
   "metadata": {},
   "outputs": [],
   "source": [
    "import pandas as pd\n",
    "import numpy as np\n",
    "\n",
    "import matplotlib.pyplot as plt\n",
    "import seaborn as sns\n",
    "\n",
    "from scipy import stats"
   ]
  },
  {
   "cell_type": "code",
   "execution_count": 52,
   "metadata": {},
   "outputs": [],
   "source": [
    "# TODO: load `data/processed/shopping_cleaned.csv` as a pandas dataframe\n",
    "\n",
    "df=pd.read_csv('C:/Users/deema/Desktop/Lab4/shopping-behavior/code/shopping_cleaned.csv')"
   ]
  },
  {
   "cell_type": "code",
   "execution_count": 53,
   "metadata": {},
   "outputs": [],
   "source": [
    "# TODO: Create a dataframe pivot table where \"Season\" is your column, \"Color\" is your index, and \"Location\" is your value (this value is arbitrary)\n",
    "# use the len function as the \"aggfunc\" parameter.\n",
    "# Save this pivot table to a new variable\n",
    "# Documentation: https://pandas.pydata.org/docs/reference/api/pandas.pivot_table.html\n",
    "\n",
    "Nu_1_pivot_table = df.pivot_table(index='Color', columns='Season', values='Location', aggfunc=len, fill_value=0)\n"
   ]
  },
  {
   "cell_type": "code",
   "execution_count": 54,
   "metadata": {},
   "outputs": [
    {
     "name": "stdout",
     "output_type": "stream",
     "text": [
      "Season                Fall  Spring  Summer  Winter\n",
      "Color                                             \n",
      "Aubergine               11       1       1      14\n",
      "Baby blue                2       9      16       3\n",
      "Black                   18       0       1      28\n",
      "Brick red               11       0       2      19\n",
      "Brown                   18       0       2      13\n",
      "Burnt orange            12       0       0      20\n",
      "Fuchsia                  0      12      16       3\n",
      "Lavender                 2      11      11       0\n",
      "Lemon yellow             1       7      17       2\n",
      "Mauve                   14       0       0      14\n",
      "Muted mustard yellow    11       0       4      12\n",
      "Pale peach               0      11       5       2\n",
      "Periwinkle               0       6      16       0\n",
      "Ruby Red                14       0       0      16\n",
      "Terra cotta             10       2       1      10\n",
      "Turquoise                1       9      12       2\n",
      "White                    1       9      13       1\n"
     ]
    }
   ],
   "source": [
    "# TODO: Display this pivot table\n",
    "\n",
    "print(Nu_1_pivot_table)\n"
   ]
  },
  {
   "cell_type": "code",
   "execution_count": 55,
   "metadata": {},
   "outputs": [
    {
     "name": "stdout",
     "output_type": "stream",
     "text": [
      "Color\n",
      "Black                   18\n",
      "Brown                   18\n",
      "Ruby Red                14\n",
      "Mauve                   14\n",
      "Burnt orange            12\n",
      "Aubergine               11\n",
      "Brick red               11\n",
      "Muted mustard yellow    11\n",
      "Terra cotta             10\n",
      "Lavender                 2\n",
      "Baby blue                2\n",
      "Turquoise                1\n",
      "Lemon yellow             1\n",
      "White                    1\n",
      "Periwinkle               0\n",
      "Pale peach               0\n",
      "Fuchsia                  0\n",
      "Name: Fall, dtype: int64\n"
     ]
    }
   ],
   "source": [
    "# TODO: Select the \"Fall\" column from this pivot table and display the sort order in descending order\n",
    "# Documentation: https://pandas.pydata.org/docs/reference/api/pandas.DataFrame.sort_values.html\n",
    "\n",
    "sorted_column = Nu_1_pivot_table['Fall'].sort_values(ascending=False)\n",
    "\n",
    "print(sorted_column)"
   ]
  },
  {
   "cell_type": "code",
   "execution_count": 56,
   "metadata": {},
   "outputs": [
    {
     "name": "stdout",
     "output_type": "stream",
     "text": [
      "Color\n",
      "Black                   28\n",
      "Burnt orange            20\n",
      "Brick red               19\n",
      "Ruby Red                16\n",
      "Aubergine               14\n",
      "Mauve                   14\n",
      "Brown                   13\n",
      "Muted mustard yellow    12\n",
      "Terra cotta             10\n",
      "Fuchsia                  3\n",
      "Baby blue                3\n",
      "Turquoise                2\n",
      "Lemon yellow             2\n",
      "Pale peach               2\n",
      "White                    1\n",
      "Periwinkle               0\n",
      "Lavender                 0\n",
      "Name: Winter, dtype: int64\n"
     ]
    }
   ],
   "source": [
    "# TODO: Select the \"Winter\" column from this pivot table and display the sort order in descending order.\n",
    "\n",
    "sorted_column = Nu_1_pivot_table['Winter'].sort_values(ascending=False)\n",
    "print(sorted_column)"
   ]
  },
  {
   "cell_type": "code",
   "execution_count": 57,
   "metadata": {},
   "outputs": [
    {
     "name": "stdout",
     "output_type": "stream",
     "text": [
      "Color\n",
      "Fuchsia                 12\n",
      "Pale peach              11\n",
      "Lavender                11\n",
      "White                    9\n",
      "Turquoise                9\n",
      "Baby blue                9\n",
      "Lemon yellow             7\n",
      "Periwinkle               6\n",
      "Terra cotta              2\n",
      "Aubergine                1\n",
      "Burnt orange             0\n",
      "Brown                    0\n",
      "Mauve                    0\n",
      "Muted mustard yellow     0\n",
      "Brick red                0\n",
      "Ruby Red                 0\n",
      "Black                    0\n",
      "Name: Spring, dtype: int64\n"
     ]
    }
   ],
   "source": [
    "# TODO: Select the \"Spring\" column from this pivot table and display the sort order in descending order\n",
    "\n",
    "sorted_column = Nu_1_pivot_table['Spring'].sort_values(ascending=False)\n",
    "print(sorted_column)"
   ]
  },
  {
   "cell_type": "code",
   "execution_count": 58,
   "metadata": {},
   "outputs": [
    {
     "name": "stdout",
     "output_type": "stream",
     "text": [
      "Color\n",
      "Lemon yellow            17\n",
      "Fuchsia                 16\n",
      "Periwinkle              16\n",
      "Baby blue               16\n",
      "White                   13\n",
      "Turquoise               12\n",
      "Lavender                11\n",
      "Pale peach               5\n",
      "Muted mustard yellow     4\n",
      "Brown                    2\n",
      "Brick red                2\n",
      "Black                    1\n",
      "Terra cotta              1\n",
      "Aubergine                1\n",
      "Burnt orange             0\n",
      "Mauve                    0\n",
      "Ruby Red                 0\n",
      "Name: Summer, dtype: int64\n"
     ]
    }
   ],
   "source": [
    "# TODO: Select the \"Summer\" column from this pivot table and display the sort order in descending order\n",
    "\n",
    "sorted_column = Nu_1_pivot_table['Summer'].sort_values(ascending=False)\n",
    "print(sorted_column)"
   ]
  },
  {
   "cell_type": "code",
   "execution_count": 59,
   "metadata": {},
   "outputs": [
    {
     "data": {
      "text/plain": [
       "Season\n",
       "Fall             Black\n",
       "Spring         Fuchsia\n",
       "Summer    Lemon yellow\n",
       "Winter           Black\n",
       "dtype: object"
      ]
     },
     "execution_count": 59,
     "metadata": {},
     "output_type": "execute_result"
    }
   ],
   "source": [
    "# TODO: Using the \"idmax\" method, get the index with the maximum value for each column\n",
    "# Documentation: https://pandas.pydata.org/docs/reference/api/pandas.DataFrame.idxmax.html\n",
    "\n",
    "Nu_1_pivot_table.idxmax()\n",
    "\n"
   ]
  },
  {
   "cell_type": "code",
   "execution_count": 60,
   "metadata": {},
   "outputs": [],
   "source": [
    "# TODO: Create a dataframe pivot table where \"Season\" is your column, \"Item Purchased\" is your index, and \"Location\" is your value (this value is arbitrary)\n",
    "# use the len function as the \"aggfunc\" parameter.\n",
    "# Save this pivot table to a new variable and display it\n",
    "\n",
    "Second_pivot_table = df.pivot_table(index='Item Purchased', columns='Season', values='Location', aggfunc=len, fill_value=0)"
   ]
  },
  {
   "cell_type": "code",
   "execution_count": 61,
   "metadata": {},
   "outputs": [
    {
     "data": {
      "text/plain": [
       "Season\n",
       "Fall              Socks\n",
       "Spring    Running Shoes\n",
       "Summer       Sunglasses\n",
       "Winter         Leggings\n",
       "dtype: object"
      ]
     },
     "execution_count": 61,
     "metadata": {},
     "output_type": "execute_result"
    }
   ],
   "source": [
    "# TODO: Using the \"idmax\" method, get the index with the maximum value for each column on the pivot table containing clothing items & season\n",
    "# Documentation: https://pandas.pydata.org/docs/reference/api/pandas.DataFrame.idxmax.html\n",
    "\n",
    "Second_pivot_table.idxmax()"
   ]
  },
  {
   "cell_type": "code",
   "execution_count": 27,
   "metadata": {},
   "outputs": [
    {
     "ename": "KeyError",
     "evalue": "'promo_code_used'",
     "output_type": "error",
     "traceback": [
      "\u001b[1;31m---------------------------------------------------------------------------\u001b[0m",
      "\u001b[1;31mKeyError\u001b[0m                                  Traceback (most recent call last)",
      "File \u001b[1;32mc:\\Users\\deema\\anaconda3\\envs\\phase1\\lib\\site-packages\\pandas\\core\\indexes\\base.py:3653\u001b[0m, in \u001b[0;36mIndex.get_loc\u001b[1;34m(self, key)\u001b[0m\n\u001b[0;32m   3652\u001b[0m \u001b[39mtry\u001b[39;00m:\n\u001b[1;32m-> 3653\u001b[0m     \u001b[39mreturn\u001b[39;00m \u001b[39mself\u001b[39;49m\u001b[39m.\u001b[39;49m_engine\u001b[39m.\u001b[39;49mget_loc(casted_key)\n\u001b[0;32m   3654\u001b[0m \u001b[39mexcept\u001b[39;00m \u001b[39mKeyError\u001b[39;00m \u001b[39mas\u001b[39;00m err:\n",
      "File \u001b[1;32mc:\\Users\\deema\\anaconda3\\envs\\phase1\\lib\\site-packages\\pandas\\_libs\\index.pyx:147\u001b[0m, in \u001b[0;36mpandas._libs.index.IndexEngine.get_loc\u001b[1;34m()\u001b[0m\n",
      "File \u001b[1;32mc:\\Users\\deema\\anaconda3\\envs\\phase1\\lib\\site-packages\\pandas\\_libs\\index.pyx:176\u001b[0m, in \u001b[0;36mpandas._libs.index.IndexEngine.get_loc\u001b[1;34m()\u001b[0m\n",
      "File \u001b[1;32mpandas\\_libs\\hashtable_class_helper.pxi:7080\u001b[0m, in \u001b[0;36mpandas._libs.hashtable.PyObjectHashTable.get_item\u001b[1;34m()\u001b[0m\n",
      "File \u001b[1;32mpandas\\_libs\\hashtable_class_helper.pxi:7088\u001b[0m, in \u001b[0;36mpandas._libs.hashtable.PyObjectHashTable.get_item\u001b[1;34m()\u001b[0m\n",
      "\u001b[1;31mKeyError\u001b[0m: 'promo_code_used'",
      "\nThe above exception was the direct cause of the following exception:\n",
      "\u001b[1;31mKeyError\u001b[0m                                  Traceback (most recent call last)",
      "\u001b[1;32mc:\\Users\\deema\\Desktop\\Lab4\\shopping-behavior\\code\\03analysis.ipynb Cell 13\u001b[0m line \u001b[0;36m1\n\u001b[0;32m      <a href='vscode-notebook-cell:/c%3A/Users/deema/Desktop/Lab4/shopping-behavior/code/03analysis.ipynb#X15sZmlsZQ%3D%3D?line=0'>1</a>\u001b[0m \u001b[39m# TODO: Create two data-frames for promo-code users and non-promo-code users using boolean indexing\u001b[39;00m\n\u001b[0;32m      <a href='vscode-notebook-cell:/c%3A/Users/deema/Desktop/Lab4/shopping-behavior/code/03analysis.ipynb#X15sZmlsZQ%3D%3D?line=1'>2</a>\u001b[0m \u001b[39m# Save these two dataframes into seperate variables \u001b[39;00m\n\u001b[0;32m      <a href='vscode-notebook-cell:/c%3A/Users/deema/Desktop/Lab4/shopping-behavior/code/03analysis.ipynb#X15sZmlsZQ%3D%3D?line=2'>3</a>\u001b[0m \u001b[39m# Documentation: https://pandas.pydata.org/docs/user_guide/indexing.html#boolean-indexing\u001b[39;00m\n\u001b[1;32m   (...)\u001b[0m\n\u001b[0;32m     <a href='vscode-notebook-cell:/c%3A/Users/deema/Desktop/Lab4/shopping-behavior/code/03analysis.ipynb#X15sZmlsZQ%3D%3D?line=13'>14</a>\u001b[0m \n\u001b[0;32m     <a href='vscode-notebook-cell:/c%3A/Users/deema/Desktop/Lab4/shopping-behavior/code/03analysis.ipynb#X15sZmlsZQ%3D%3D?line=14'>15</a>\u001b[0m \u001b[39m#print(Forth_df_promo.head())\u001b[39;00m\n\u001b[1;32m---> <a href='vscode-notebook-cell:/c%3A/Users/deema/Desktop/Lab4/shopping-behavior/code/03analysis.ipynb#X15sZmlsZQ%3D%3D?line=16'>17</a>\u001b[0m promo_code_users \u001b[39m=\u001b[39m df[Third_df_promo[\u001b[39m'\u001b[39;49m\u001b[39mpromo_code_used\u001b[39;49m\u001b[39m'\u001b[39;49m] \u001b[39m==\u001b[39m \u001b[39mTrue\u001b[39;00m]\n\u001b[0;32m     <a href='vscode-notebook-cell:/c%3A/Users/deema/Desktop/Lab4/shopping-behavior/code/03analysis.ipynb#X15sZmlsZQ%3D%3D?line=17'>18</a>\u001b[0m non_promo_code_users \u001b[39m=\u001b[39m df[Third_df_promo[\u001b[39m'\u001b[39m\u001b[39mpromo_code_used\u001b[39m\u001b[39m'\u001b[39m] \u001b[39m==\u001b[39m \u001b[39mFalse\u001b[39;00m]\n",
      "File \u001b[1;32mc:\\Users\\deema\\anaconda3\\envs\\phase1\\lib\\site-packages\\pandas\\core\\frame.py:3761\u001b[0m, in \u001b[0;36mDataFrame.__getitem__\u001b[1;34m(self, key)\u001b[0m\n\u001b[0;32m   3759\u001b[0m \u001b[39mif\u001b[39;00m \u001b[39mself\u001b[39m\u001b[39m.\u001b[39mcolumns\u001b[39m.\u001b[39mnlevels \u001b[39m>\u001b[39m \u001b[39m1\u001b[39m:\n\u001b[0;32m   3760\u001b[0m     \u001b[39mreturn\u001b[39;00m \u001b[39mself\u001b[39m\u001b[39m.\u001b[39m_getitem_multilevel(key)\n\u001b[1;32m-> 3761\u001b[0m indexer \u001b[39m=\u001b[39m \u001b[39mself\u001b[39;49m\u001b[39m.\u001b[39;49mcolumns\u001b[39m.\u001b[39;49mget_loc(key)\n\u001b[0;32m   3762\u001b[0m \u001b[39mif\u001b[39;00m is_integer(indexer):\n\u001b[0;32m   3763\u001b[0m     indexer \u001b[39m=\u001b[39m [indexer]\n",
      "File \u001b[1;32mc:\\Users\\deema\\anaconda3\\envs\\phase1\\lib\\site-packages\\pandas\\core\\indexes\\base.py:3655\u001b[0m, in \u001b[0;36mIndex.get_loc\u001b[1;34m(self, key)\u001b[0m\n\u001b[0;32m   3653\u001b[0m     \u001b[39mreturn\u001b[39;00m \u001b[39mself\u001b[39m\u001b[39m.\u001b[39m_engine\u001b[39m.\u001b[39mget_loc(casted_key)\n\u001b[0;32m   3654\u001b[0m \u001b[39mexcept\u001b[39;00m \u001b[39mKeyError\u001b[39;00m \u001b[39mas\u001b[39;00m err:\n\u001b[1;32m-> 3655\u001b[0m     \u001b[39mraise\u001b[39;00m \u001b[39mKeyError\u001b[39;00m(key) \u001b[39mfrom\u001b[39;00m \u001b[39merr\u001b[39;00m\n\u001b[0;32m   3656\u001b[0m \u001b[39mexcept\u001b[39;00m \u001b[39mTypeError\u001b[39;00m:\n\u001b[0;32m   3657\u001b[0m     \u001b[39m# If we have a listlike key, _check_indexing_error will raise\u001b[39;00m\n\u001b[0;32m   3658\u001b[0m     \u001b[39m#  InvalidIndexError. Otherwise we fall through and re-raise\u001b[39;00m\n\u001b[0;32m   3659\u001b[0m     \u001b[39m#  the TypeError.\u001b[39;00m\n\u001b[0;32m   3660\u001b[0m     \u001b[39mself\u001b[39m\u001b[39m.\u001b[39m_check_indexing_error(key)\n",
      "\u001b[1;31mKeyError\u001b[0m: 'promo_code_used'"
     ]
    }
   ],
   "source": [
    "# TODO: Create two data-frames for promo-code users and non-promo-code users using boolean indexing\n",
    "# Save these two dataframes into seperate variables \n",
    "# Documentation: https://pandas.pydata.org/docs/user_guide/indexing.html#boolean-indexing\n",
    "# Hint: Users that have used a promo code have the value \"Yes\" in the column \"Promo Code Used\"\n",
    "\n",
    "#The following code is trying to do:\n",
    "#Make 2 New DataFrame for the original data\n",
    "#Using those 2 dataframes create 2 new sets of dataframes that are reading the \"Promo Code Used\" field\n",
    "#Evaluating the column to determine \"TRUE\" or \"FALSE\"\n",
    "#That is \"Yes\" or \"No\" indicating rather or not the promo code was used.\n",
    "#ERROR: Not sure what this is coming from the \"base.py\" file\n",
    "# 3653     return self._engine.get_loc(casted_key) \n",
    "# 3654 except KeyError as err:\n",
    "\n",
    "\n",
    "#df=pd.read_csv('C:/Users/deema/Desktop/Lab4/shopping-behavior/code/shopping_cleaned.csv')\n",
    "\n",
    "#Third_df_promo = pd.read_csv('C:/Users/deema/Desktop/Lab4/shopping-behavior/code/shopping_cleaned.csv')\n",
    "\n",
    "#Forth_df_promo = pd.read_csv('C:/Users/deema/Desktop/Lab4/shopping-behavior/code/shopping_cleaned.csv')\n",
    "\n",
    "\n",
    "#print(Third_df_promo.head())\n",
    "\n",
    "#print(Forth_df_promo.head())\n",
    "\n",
    "promo_code_users = df[Third_df_promo['promo_code_used'] == True]\n",
    "non_promo_code_users = df[Third_df_promo['promo_code_used'] == False]\n",
    "\n",
    "#From a different DF\n",
    "#non_promo_code_users = Forth_df_promo[Forth_df_promo['promo_code_used'] == False]\n"
   ]
  },
  {
   "cell_type": "code",
   "execution_count": 29,
   "metadata": {},
   "outputs": [
    {
     "name": "stdout",
     "output_type": "stream",
     "text": [
      "(479, 15)\n"
     ]
    }
   ],
   "source": [
    "# TODO: Print the shape of the promo code users dataframe. This should be (1373, 13)\n",
    "\n",
    "print(Third_df_promo.shape)\n"
   ]
  },
  {
   "cell_type": "code",
   "execution_count": 33,
   "metadata": {},
   "outputs": [
    {
     "ename": "NameError",
     "evalue": "name 'promo_code_users' is not defined",
     "output_type": "error",
     "traceback": [
      "\u001b[1;31m---------------------------------------------------------------------------\u001b[0m",
      "\u001b[1;31mNameError\u001b[0m                                 Traceback (most recent call last)",
      "\u001b[1;32mc:\\Users\\deema\\Desktop\\Lab4\\shopping-behavior\\code\\03analysis.ipynb Cell 15\u001b[0m line \u001b[0;36m3\n\u001b[0;32m      <a href='vscode-notebook-cell:/c%3A/Users/deema/Desktop/Lab4/shopping-behavior/code/03analysis.ipynb#X20sZmlsZQ%3D%3D?line=0'>1</a>\u001b[0m \u001b[39m# TODO: Print the average purchase size of promo code users dataframe. This should be 50.06747998236351\u001b[39;00m\n\u001b[1;32m----> <a href='vscode-notebook-cell:/c%3A/Users/deema/Desktop/Lab4/shopping-behavior/code/03analysis.ipynb#X20sZmlsZQ%3D%3D?line=2'>3</a>\u001b[0m average_purchase_size \u001b[39m=\u001b[39m promo_code_users[\u001b[39m'\u001b[39m\u001b[39mpurchase_size\u001b[39m\u001b[39m'\u001b[39m]\u001b[39m.\u001b[39mmean()\n\u001b[0;32m      <a href='vscode-notebook-cell:/c%3A/Users/deema/Desktop/Lab4/shopping-behavior/code/03analysis.ipynb#X20sZmlsZQ%3D%3D?line=3'>4</a>\u001b[0m \u001b[39mprint\u001b[39m(average_purchase_size)\n",
      "\u001b[1;31mNameError\u001b[0m: name 'promo_code_users' is not defined"
     ]
    }
   ],
   "source": [
    "# TODO: Print the average purchase size of promo code users dataframe. This should be 50.06747998236351\n",
    "\n",
    "average_purchase_size = promo_code_users['purchase_size'].mean()\n",
    "print(average_purchase_size)\n",
    "\n"
   ]
  },
  {
   "cell_type": "code",
   "execution_count": 34,
   "metadata": {},
   "outputs": [
    {
     "name": "stdout",
     "output_type": "stream",
     "text": [
      "(479, 15)\n"
     ]
    }
   ],
   "source": [
    "# TODO: Print the shape of the non promo code users dataframe. This should be (1785, 13)\n",
    "\n",
    "print(Forth_df_promo.shape)"
   ]
  },
  {
   "cell_type": "code",
   "execution_count": 35,
   "metadata": {},
   "outputs": [
    {
     "ename": "NameError",
     "evalue": "name 'promo_code_users' is not defined",
     "output_type": "error",
     "traceback": [
      "\u001b[1;31m---------------------------------------------------------------------------\u001b[0m",
      "\u001b[1;31mNameError\u001b[0m                                 Traceback (most recent call last)",
      "\u001b[1;32mc:\\Users\\deema\\Desktop\\Lab4\\shopping-behavior\\code\\03analysis.ipynb Cell 17\u001b[0m line \u001b[0;36m3\n\u001b[0;32m      <a href='vscode-notebook-cell:/c%3A/Users/deema/Desktop/Lab4/shopping-behavior/code/03analysis.ipynb#X22sZmlsZQ%3D%3D?line=0'>1</a>\u001b[0m \u001b[39m# TODO: Print the average purchase size of non promo code users dataframe. This should be 30.155750765104113\u001b[39;00m\n\u001b[1;32m----> <a href='vscode-notebook-cell:/c%3A/Users/deema/Desktop/Lab4/shopping-behavior/code/03analysis.ipynb#X22sZmlsZQ%3D%3D?line=2'>3</a>\u001b[0m average_purchase_size \u001b[39m=\u001b[39m promo_code_users[\u001b[39m'\u001b[39m\u001b[39mpurchase_size\u001b[39m\u001b[39m'\u001b[39m]\u001b[39m.\u001b[39mmean()\n\u001b[0;32m      <a href='vscode-notebook-cell:/c%3A/Users/deema/Desktop/Lab4/shopping-behavior/code/03analysis.ipynb#X22sZmlsZQ%3D%3D?line=3'>4</a>\u001b[0m \u001b[39mprint\u001b[39m(average_purchase_size)\n",
      "\u001b[1;31mNameError\u001b[0m: name 'promo_code_users' is not defined"
     ]
    }
   ],
   "source": [
    "# TODO: Print the average purchase size of non promo code users dataframe. This should be 30.155750765104113\n",
    "\n",
    "average_purchase_size = promo_code_users['purchase_size'].mean()\n",
    "print(average_purchase_size)\n"
   ]
  },
  {
   "cell_type": "markdown",
   "metadata": {},
   "source": [
    "Formulate a null hypothesis regarding the dollar amount spent between promo-code users & non-promo-code users"
   ]
  },
  {
   "cell_type": "markdown",
   "metadata": {},
   "source": [
    "One null hypothesis could be that the total dollars that those customer with a promo code (promo code user) would spend more money on average versus the customer that did not have a promo code (non-promo code user)."
   ]
  },
  {
   "cell_type": "markdown",
   "metadata": {},
   "source": [
    "Formulate an alternative hypothesis regarding the dollar amount spent between promo-code users & non-promo-code users"
   ]
  },
  {
   "cell_type": "markdown",
   "metadata": {},
   "source": [
    "Alternately, if the customer did have a promo code, it may only be applicable to a certain amount of money that the customer will have to spend in order to even have the ability to use the promo code. e.g a promo code will be applicable for all orders OVER $ 200.00. Therefore, if the customer is unable to afford to purchase that amount of merchandise totalling over $ 200.00 they will be automatically restricted from using the promo code."
   ]
  },
  {
   "cell_type": "code",
   "execution_count": null,
   "metadata": {},
   "outputs": [],
   "source": [
    "# UNABLE TO EXECUTE\n",
    "# TODO: Using the \"ttest_ind\" method from \"scipy.stats\", run a T-Test between the dollar amount spent of promo-code users and non promo-code users\n",
    "# The t-statistic you should observe is 93.2464714350831\n",
    "# Documentation: https://docs.scipy.org/doc/scipy/reference/generated/scipy.stats.ttest_ind.html\n",
    "\n",
    "#ttest for 1.) dollar amount spent of promo-code users and 2.) non promo-code users\n",
    "\n"
   ]
  },
  {
   "cell_type": "code",
   "execution_count": 37,
   "metadata": {},
   "outputs": [
    {
     "name": "stdout",
     "output_type": "stream",
     "text": [
      "t-value:  -3.8663000222524073\n",
      "p-value:  0.002242872583106794\n"
     ]
    }
   ],
   "source": [
    "#Added my own code for an example\n",
    "\n",
    "#Calculating the t-value and p-value of 2 indicators A1 and B1\n",
    "\n",
    "from scipy import stats\n",
    "\n",
    "# Assuming that A1 and B1 are your data\n",
    "A1 = [2, 18, 16, 3, 9, 12, 14]\n",
    "B1 = [32, 12, 34, 23, 30, 19, 26]\n",
    "\n",
    "t_value, p_value = stats.ttest_ind(A1, B1)\n",
    "\n",
    "print(\"t-value: \", t_value)\n",
    "print(\"p-value: \", p_value)\n"
   ]
  },
  {
   "cell_type": "code",
   "execution_count": 38,
   "metadata": {},
   "outputs": [
    {
     "name": "stdout",
     "output_type": "stream",
     "text": [
      "Standard Deviation:  3.155817433482074\n"
     ]
    }
   ],
   "source": [
    "#Calculating the Standard Deviation of a t-test\n",
    "\n",
    "import numpy as np\n",
    "\n",
    "#Suggested dataset\n",
    "data = [10, 13, 11, 15, 20, 14, 11]\n",
    "\n",
    "# Calculate standard deviation\n",
    "std_dev = np.std(data)\n",
    "\n",
    "print(\"Standard Deviation: \", std_dev)\n",
    "\n",
    "\n"
   ]
  },
  {
   "cell_type": "code",
   "execution_count": 42,
   "metadata": {},
   "outputs": [
    {
     "name": "stdout",
     "output_type": "stream",
     "text": [
      "0    4.0\n",
      "1    4.0\n",
      "2    5.0\n",
      "3    5.0\n",
      "4    4.0\n",
      "Name: Review Rating, dtype: float64\n"
     ]
    }
   ],
   "source": [
    "# TODO: Group your dataframe according to the \"Review Rating\" column. This should produce two groups for the values \"Missing\" & \"Present\"\n",
    "# Save this grouped dataframe into a new variable named \"g_review\"\n",
    "# Documentation: https://pandas.pydata.org/docs/reference/api/pandas.DataFrame.groupby.html\n",
    "\n",
    "df=pd.read_csv('C:/Users/deema/Desktop/Lab4/shopping-behavior/code/shopping_cleaned.csv')\n",
    "g_review = df.groupby('Review Rating')\n",
    "print(df['Review Rating'].head()) "
   ]
  },
  {
   "cell_type": "code",
   "execution_count": 44,
   "metadata": {},
   "outputs": [
    {
     "name": "stdout",
     "output_type": "stream",
     "text": [
      "dict_keys([1.0, 2.0, 4.0, 5.0])\n"
     ]
    }
   ],
   "source": [
    "# TODO: Print out the keys of this dataframe for validation. This should output \"dict_keys(['Missing', 'Present'])\"\n",
    "# Documentation: https://pandas.pydata.org/docs/reference/api/pandas.DataFrame.keys.html\n",
    "\n",
    "print(g_review.groups.keys())\n"
   ]
  },
  {
   "cell_type": "code",
   "execution_count": 45,
   "metadata": {},
   "outputs": [
    {
     "name": "stdout",
     "output_type": "stream",
     "text": [
      "               Purchase Amount (USD)        Age  Previous Purchases\n",
      "Review Rating                                                      \n",
      "1.0                        27.176400  31.933333            5.600000\n",
      "2.0                        30.879706  32.969697            7.757576\n",
      "4.0                        30.394100  35.741036            8.000000\n",
      "5.0                        30.604964  32.891156            8.108844\n"
     ]
    }
   ],
   "source": [
    "# TODO: calculate the average of the \"Purchase Amount (USD)\", \"Age\", and \"Previous Purchases\" columns in our grouped dataframe\n",
    "# output the values for display\n",
    "# Documentation: https://pandas.pydata.org/docs/reference/api/pandas.DataFrame.mean.html\n",
    "# Documentation: https://pandas.pydata.org/docs/getting_started/intro_tutorials/03_subset_data.html\n",
    "\n",
    "#The average values from the grouped by range for 'Purchase Amount (USD)', 'Age', 'Previous Purchases\n",
    "\n",
    "average_values = g_review[['Purchase Amount (USD)', 'Age', 'Previous Purchases']].mean()\n",
    "\n",
    "# Print the average values\n",
    "print(average_values)"
   ]
  },
  {
   "cell_type": "code",
   "execution_count": 48,
   "metadata": {},
   "outputs": [
    {
     "name": "stdout",
     "output_type": "stream",
     "text": [
      "0     Low\n",
      "1    High\n",
      "2     Low\n",
      "3     Low\n",
      "4     Low\n",
      "Name: Prev Purchase Group, dtype: category\n",
      "Categories (2, object): ['Low' < 'High']\n"
     ]
    }
   ],
   "source": [
    "# TODO: Create a new column called \"Prev Purchase Group\" on your original dataframe which seperates your dataframe into \n",
    "# two groups of shoppers based on their \"Previous Purchases\" column using the \"pd.cut\" method. \n",
    "# Ensure that you are only creating 2 \"bins\" and label these respective bins as [\"Low\", \"High\"]\n",
    "# Documentation: https://pandas.pydata.org/docs/reference/api/pandas.cut.html\n",
    "\n",
    "#df_copy=pd.read_csv('C:/Users/deema/Desktop/Lab4/shopping-behavior/code/shopping_cleaned.csv')\n",
    "\n",
    "#df=pd.read_csv('C:/Users/deema/Desktop/Lab4/shopping-behavior/code/shopping_cleaned.csv')\n",
    "\n",
    "#df['Prev Purchase Group'] = pd.cut(df['Previous Purchases'], bins=2, labels=['Low', 'High'])\n",
    "\n",
    "print(df['Prev Purchase Group'].head())"
   ]
  },
  {
   "cell_type": "code",
   "execution_count": 49,
   "metadata": {},
   "outputs": [
    {
     "name": "stdout",
     "output_type": "stream",
     "text": [
      "Review Rating\n",
      "4.0    174\n",
      "5.0     99\n",
      "2.0     49\n",
      "1.0     12\n",
      "Name: count, dtype: int64\n"
     ]
    }
   ],
   "source": [
    "\n",
    "\n",
    "# TODO: Using the \"value_counts\" function, count how many Missing & Present values are in the \"Low\" group\n",
    "# Display this value for analysis \n",
    "# Documentation: https://pandas.pydata.org/docs/reference/api/pandas.Series.value_counts.html\n",
    "# Hint: You will have to use Boolean Indexing\n",
    "\n",
    "#Show the 'Low' group\n",
    "low_group = df[df['Prev Purchase Group'] == 'Low']\n",
    "\n",
    "#Count the 'Missing' and 'Present' values\n",
    "value_counts = low_group['Review Rating'].value_counts()\n",
    "\n",
    "#Print the counts\n",
    "print(value_counts)"
   ]
  },
  {
   "cell_type": "code",
   "execution_count": 50,
   "metadata": {},
   "outputs": [
    {
     "name": "stdout",
     "output_type": "stream",
     "text": [
      "Review Rating\n",
      "4.0    77\n",
      "5.0    48\n",
      "2.0    17\n",
      "1.0     3\n",
      "Name: count, dtype: int64\n"
     ]
    }
   ],
   "source": [
    "# TODO: Using the \"value_counts\" function, count how many Missing & Present values are in the \"High\" group\n",
    "# Display this value for analysis \n",
    "# Documentation: https://pandas.pydata.org/docs/reference/api/pandas.Series.value_counts.html\n",
    "# Hint: You will have to use Boolean Indexing\n",
    "\n",
    "#Show the 'High' group\n",
    "high_group = df[df['Prev Purchase Group'] == 'High']\n",
    "\n",
    "#Count the 'Missing' and 'Present' values\n",
    "value_counts = high_group['Review Rating'].value_counts()\n",
    "\n",
    "# Print the counts\n",
    "print(value_counts)"
   ]
  },
  {
   "cell_type": "markdown",
   "metadata": {},
   "source": [
    "## Data Analysis II\n",
    "\n",
    "In the next section, answer the primary analytical questions in your own words."
   ]
  },
  {
   "cell_type": "markdown",
   "metadata": {},
   "source": [
    "### Q1\n",
    "\n",
    "What are the top three colors for Fall & Winter?"
   ]
  },
  {
   "cell_type": "markdown",
   "metadata": {},
   "source": [
    "Top 3 colors for Fall and Winter are: Fall ( there were some ties so I listed them): Black, Brown (18), Mauve, Ruby Red (14)  and Burnt Orange ( 12)and Winter: Black (28), Burnt Orange ( 20) and Brick Red ( 19)"
   ]
  },
  {
   "cell_type": "markdown",
   "metadata": {},
   "source": [
    "### Q2\n",
    "\n",
    "What are the top three colors for Spring & Summer?"
   ]
  },
  {
   "cell_type": "markdown",
   "metadata": {},
   "source": [
    "Top 3 colors for Spring and Summer are: \n",
    "Spring: \n",
    "Fuchsia                 12\n",
    "Pale peach              11\n",
    "Lavender                11\n",
    "White                    9\n",
    "Turquoise                9\n",
    "Baby blue                9\n",
    "\n",
    "Summer:\n",
    "Lemon yellow     17\n",
    "Fuchsia                 16\n",
    "Periwinkle              16\n",
    "Baby blue               16\n",
    "White                   13 "
   ]
  },
  {
   "cell_type": "markdown",
   "metadata": {},
   "source": [
    "### Q3\n",
    "\n",
    "What is the most popular clothing item by season?"
   ]
  },
  {
   "cell_type": "markdown",
   "metadata": {},
   "source": [
    "Season\n",
    "Fall              Socks\n",
    "Spring    Running Shoes\n",
    "Summer       Sunglasses\n",
    "Winter         Leggings"
   ]
  },
  {
   "cell_type": "markdown",
   "metadata": {},
   "source": [
    "### Q4\n",
    "\n",
    "Observing the p-value that we got when running our t-test between promo-code and non-promo-code users, what can we conclude regarding our null hypothesis?"
   ]
  },
  {
   "cell_type": "markdown",
   "metadata": {},
   "source": [
    "The Verdict is still out! "
   ]
  },
  {
   "cell_type": "markdown",
   "metadata": {},
   "source": [
    "### Q5\n",
    "\n",
    "Observe the `value_counts` output for the \"Review Rating\" column for both your \"High\" and \"Low\" groups. Proportionally speaking, which group is more likely to leave a review? Why might this be happening from the \"human\"-perspective? Rationalizations are ok at this point, even if they aren't backed up by data."
   ]
  },
  {
   "cell_type": "markdown",
   "metadata": {},
   "source": [
    "I believe that the group most likely to leave a review at all is: Low group. Our dollars count for something, no matter how little we spend. I think that the economy is driving a lot of these factors. Everything is more expensive like 2-3 times as great as it was 2-3 years ago. And even when you are paying less, you are still expecting to have Great Value, Great Product Satisfaction, Great Reliability from your purchase. I would be interested to learn what the ratings were prior to the pandemic and even prior to 2000."
   ]
  }
 ],
 "metadata": {
  "kernelspec": {
   "display_name": "phase1",
   "language": "python",
   "name": "python3"
  },
  "language_info": {
   "codemirror_mode": {
    "name": "ipython",
    "version": 3
   },
   "file_extension": ".py",
   "mimetype": "text/x-python",
   "name": "python",
   "nbconvert_exporter": "python",
   "pygments_lexer": "ipython3",
   "version": "3.9.18"
  }
 },
 "nbformat": 4,
 "nbformat_minor": 2
}
