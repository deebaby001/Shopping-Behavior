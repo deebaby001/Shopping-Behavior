{
 "cells": [
  {
   "cell_type": "markdown",
   "metadata": {},
   "source": [
    "# Data Transformation I\n",
    "\n",
    "Next, we will begin transforming our dataset by dropping values. Our primary goal of this process is to:\n",
    "\n",
    "* drop rows with missing data\n",
    "* drop select columns with overwhelmingly missing data\n",
    "\n",
    "Utilize the documentation provided in each code-block. When you are done with this section of the project, validate that your output matches the screenshot provided in the `docs/part2.md` file."
   ]
  },
  {
   "cell_type": "code",
   "execution_count": 1,
   "metadata": {},
   "outputs": [],
   "source": [
    "import pandas as pd\n",
    "import numpy as np"
   ]
  },
  {
   "cell_type": "code",
   "execution_count": 2,
   "metadata": {},
   "outputs": [],
   "source": [
    "# TODO: load `data/raw/shopping.csv` as a pandas dataframe\n",
    "df=pd.read_csv('C:/Users/deema/Desktop/Lab4/shopping-behavior/data/raw/shopping.csv')  \n",
    "\n",
    "\n",
    "#Make a back up copy of the Original Data Frame\n",
    "df_copy = df.copy()"
   ]
  },
  {
   "cell_type": "code",
   "execution_count": 4,
   "metadata": {},
   "outputs": [
    {
     "name": "stdout",
     "output_type": "stream",
     "text": [
      "(3900, 15)\n"
     ]
    }
   ],
   "source": [
    "# TODO: print out the shape of this dataframe for better clarity\n",
    "# Documentation: https://pandas.pydata.org/docs/reference/api/pandas.DataFrame.shape.html\n",
    "\n",
    "print(df.shape)"
   ]
  },
  {
   "cell_type": "code",
   "execution_count": 5,
   "metadata": {},
   "outputs": [
    {
     "data": {
      "text/plain": [
       "Customer ID                  0\n",
       "Age                        390\n",
       "Gender                       0\n",
       "Item Purchased               0\n",
       "Purchase Amount (USD)        0\n",
       "Location                   390\n",
       "Size                         0\n",
       "Color                        0\n",
       "Season                       0\n",
       "Review Rating             2469\n",
       "Shipping Type                0\n",
       "Promo Code Used              0\n",
       "Previous Purchases           0\n",
       "Payment Method               0\n",
       "Frequency of Purchases    2340\n",
       "dtype: int64"
      ]
     },
     "execution_count": 5,
     "metadata": {},
     "output_type": "execute_result"
    }
   ],
   "source": [
    "# TODO: display how many null values are in each column of this dataframe\n",
    "# Documentation: https://datatofish.com/count-nan-pandas-dataframe/\n",
    "\n",
    "\n",
    "df.isna().sum()\n",
    "\n"
   ]
  },
  {
   "cell_type": "code",
   "execution_count": 7,
   "metadata": {},
   "outputs": [],
   "source": [
    "# TODO: it looks like there is roughly 65% of data missing \"Frequency of Purchases\". Drop this column, as it is mostly empty and unneeded for our analysis.\n",
    "# In addition, also drop \"Customer ID\" as this column is also unnecessary\n",
    "# Reassign this dropped dataframe as a new variable\n",
    "# Documentation: drive.google.com/drive/folders/1pAWY1JqIQw26uhtT272AoDDeq7jtbkm2\n",
    "\n",
    "#Drop columns \"Frequency of Purchases\" and \"Customer ID\" from the existing data frame\n",
    "\n",
    "\n",
    "#new_9df_SampleSz = df.drop(['Frequency of Purchases', 'Customer ID'], axis= 1)\n",
    "\n",
    "dropped_df = df.drop(['Frequency of Purchases', 'Customer ID'], axis= 1)\n"
   ]
  },
  {
   "cell_type": "code",
   "execution_count": 8,
   "metadata": {},
   "outputs": [
    {
     "name": "stdout",
     "output_type": "stream",
     "text": [
      "(3900, 13)\n"
     ]
    }
   ],
   "source": [
    "# TODO: print out the shape of this dataframe and verify that the shape is \"(3900, 13)\"\n",
    "\n",
    "print(dropped_df.shape)\n",
    "\n",
    "#print(df)\n",
    "\n",
    "#DF SIZE is Verified at (3900, 13)"
   ]
  },
  {
   "cell_type": "code",
   "execution_count": 9,
   "metadata": {},
   "outputs": [],
   "source": [
    "# TODO: while \"Review Rating\" is also mostly empty, we are interested in figuring out why some users\n",
    "# leave reviews and others don't. \n",
    "\n",
    "# Therefore we will NOT drop this column. Instead, let's reassign new_8df_SampleSz\n",
    "# all missing values in \"Review Rating\" with \"Missing\", and all non-na values as \"Present\"\n",
    "# Documentation: https://pandas.pydata.org/docs/reference/api/pandas.DataFrame.replace.html\n",
    "\n",
    "#Reassign all Missing Values to \"Missing\" and \n",
    "#all NAN values as \"Present\"\n",
    "\n",
    "#dropped_df['Review Rating'] = dropped_df['Review Rating'] .\\\n",
    "#where(dropped_df['Review Rating']).isna(), (\"Present\") .\\\n",
    "#where(dropped_df['Review Rating']).isna(), (\"Missing\") .\\\n",
    "    \n",
    "dropped_df['Review Rating'] = dropped_df['Review Rating'].where(dropped_df['Review Rating'].notna(), \"Present\")\n",
    "dropped_df['Review Rating'] = dropped_df['Review Rating'].where(dropped_df['Review Rating'] != \"Present\", \"Missing\")\n"
   ]
  },
  {
   "cell_type": "code",
   "execution_count": 10,
   "metadata": {},
   "outputs": [
    {
     "name": "stdout",
     "output_type": "stream",
     "text": [
      "       Age  Gender Item Purchased  Purchase Amount (USD)      Location Size  \\\n",
      "0      NaN    Male         Jacket              30.904467         Maine    M   \n",
      "1     21.0  Female       Backpack              31.588259           NaN    L   \n",
      "2     31.0    Male       Leggings              24.231704        Nevada    M   \n",
      "3      NaN    Male        Pajamas              33.918834      Nebraska    M   \n",
      "4     38.0    Male     Sunglasses              36.545487        Oregon    S   \n",
      "...    ...     ...            ...                    ...           ...  ...   \n",
      "3895  43.0  Female     Sunglasses              61.610602      Colorado    S   \n",
      "3896  37.0    Male        Pajamas              44.600556        Alaska    S   \n",
      "3897   NaN  Female        Handbag              41.781965       Wyoming    M   \n",
      "3898  39.0    Male         Hoodie              45.343778      Illinois    S   \n",
      "3899  21.0  Female         Gloves              49.439181  North Dakota    M   \n",
      "\n",
      "             Color  Season Review Rating   Shipping Type Promo Code Used  \\\n",
      "0     Burnt orange    Fall           4.0        Standard              No   \n",
      "1        Turquoise  Winter           2.0         Express              No   \n",
      "2      Terra cotta  Winter           4.0        Standard              No   \n",
      "3            Black  Winter       Missing        Standard              No   \n",
      "4        Aubergine  Summer       Missing        Standard              No   \n",
      "...            ...     ...           ...             ...             ...   \n",
      "3895  Burnt orange    Fall       Missing  2-Day Shipping             Yes   \n",
      "3896     Aubergine  Winter           4.0  2-Day Shipping             Yes   \n",
      "3897       Fuchsia  Summer       Missing        Standard             Yes   \n",
      "3898     Brick red    Fall       Missing  2-Day Shipping             Yes   \n",
      "3899     Aubergine  Winter           4.0  2-Day Shipping             Yes   \n",
      "\n",
      "      Previous Purchases Payment Method  \n",
      "0                      0    Credit Card  \n",
      "1                      1    Credit Card  \n",
      "2                      0    Credit Card  \n",
      "3                      2    Credit Card  \n",
      "4                      0    Credit Card  \n",
      "...                  ...            ...  \n",
      "3895                   7          Venmo  \n",
      "3896                  20          Venmo  \n",
      "3897                  13          Venmo  \n",
      "3898                   3          Venmo  \n",
      "3899                   2          Venmo  \n",
      "\n",
      "[3900 rows x 13 columns]\n"
     ]
    }
   ],
   "source": [
    "# TODO: Now that we've dropped and transformed our columns, drop the remaining rows that contain missing values\n",
    "# Documentation: https://pandas.pydata.org/docs/reference/api/pandas.DataFrame.dropna.html\n",
    "#Find null values. Found that \"Location is the only other column\n",
    "\n",
    "dropped_df.dropna()\n",
    "print(dropped_df)\n"
   ]
  },
  {
   "cell_type": "code",
   "execution_count": 11,
   "metadata": {},
   "outputs": [
    {
     "name": "stdout",
     "output_type": "stream",
     "text": [
      "Age                      390\n",
      "Gender                     0\n",
      "Item Purchased             0\n",
      "Purchase Amount (USD)      0\n",
      "Location                 390\n",
      "Size                       0\n",
      "Color                      0\n",
      "Season                     0\n",
      "Review Rating              0\n",
      "Shipping Type              0\n",
      "Promo Code Used            0\n",
      "Previous Purchases         0\n",
      "Payment Method             0\n",
      "dtype: int64\n"
     ]
    }
   ],
   "source": [
    "# TODO: display how many null values are in each column of this dataframe\n",
    "# validate that each column has no missing values\n",
    "\n",
    "print(dropped_df.isna().sum())\n"
   ]
  },
  {
   "cell_type": "code",
   "execution_count": 12,
   "metadata": {},
   "outputs": [
    {
     "name": "stdout",
     "output_type": "stream",
     "text": [
      "       Age  Gender Item Purchased  Purchase Amount (USD)      Location Size  \\\n",
      "0      NaN    Male         Jacket              30.904467         Maine    M   \n",
      "1     21.0  Female       Backpack              31.588259           NaN    L   \n",
      "2     31.0    Male       Leggings              24.231704        Nevada    M   \n",
      "3      NaN    Male        Pajamas              33.918834      Nebraska    M   \n",
      "4     38.0    Male     Sunglasses              36.545487        Oregon    S   \n",
      "...    ...     ...            ...                    ...           ...  ...   \n",
      "3895  43.0  Female     Sunglasses              61.610602      Colorado    S   \n",
      "3896  37.0    Male        Pajamas              44.600556        Alaska    S   \n",
      "3897   NaN  Female        Handbag              41.781965       Wyoming    M   \n",
      "3898  39.0    Male         Hoodie              45.343778      Illinois    S   \n",
      "3899  21.0  Female         Gloves              49.439181  North Dakota    M   \n",
      "\n",
      "             Color  Season Review Rating   Shipping Type Promo Code Used  \\\n",
      "0     Burnt orange    Fall           4.0        Standard              No   \n",
      "1        Turquoise  Winter           2.0         Express              No   \n",
      "2      Terra cotta  Winter           4.0        Standard              No   \n",
      "3            Black  Winter       Missing        Standard              No   \n",
      "4        Aubergine  Summer       Missing        Standard              No   \n",
      "...            ...     ...           ...             ...             ...   \n",
      "3895  Burnt orange    Fall       Missing  2-Day Shipping             Yes   \n",
      "3896     Aubergine  Winter           4.0  2-Day Shipping             Yes   \n",
      "3897       Fuchsia  Summer       Missing        Standard             Yes   \n",
      "3898     Brick red    Fall       Missing  2-Day Shipping             Yes   \n",
      "3899     Aubergine  Winter           4.0  2-Day Shipping             Yes   \n",
      "\n",
      "      Previous Purchases Payment Method  \n",
      "0                      0    Credit Card  \n",
      "1                      1    Credit Card  \n",
      "2                      0    Credit Card  \n",
      "3                      2    Credit Card  \n",
      "4                      0    Credit Card  \n",
      "...                  ...            ...  \n",
      "3895                   7          Venmo  \n",
      "3896                  20          Venmo  \n",
      "3897                  13          Venmo  \n",
      "3898                   3          Venmo  \n",
      "3899                   2          Venmo  \n",
      "\n",
      "[3900 rows x 13 columns]\n"
     ]
    }
   ],
   "source": [
    "# TODO: print out the shape of this dataframe and verify that the shape is \"(3158, 13)\"\n",
    "\n",
    "print(dropped_df)"
   ]
  },
  {
   "cell_type": "code",
   "execution_count": 13,
   "metadata": {},
   "outputs": [
    {
     "name": "stdout",
     "output_type": "stream",
     "text": [
      "<bound method NDFrame.describe of        Age  Gender Item Purchased  Purchase Amount (USD)      Location Size  \\\n",
      "0      NaN    Male         Jacket              30.904467         Maine    M   \n",
      "1     21.0  Female       Backpack              31.588259           NaN    L   \n",
      "2     31.0    Male       Leggings              24.231704        Nevada    M   \n",
      "3      NaN    Male        Pajamas              33.918834      Nebraska    M   \n",
      "4     38.0    Male     Sunglasses              36.545487        Oregon    S   \n",
      "...    ...     ...            ...                    ...           ...  ...   \n",
      "3895  43.0  Female     Sunglasses              61.610602      Colorado    S   \n",
      "3896  37.0    Male        Pajamas              44.600556        Alaska    S   \n",
      "3897   NaN  Female        Handbag              41.781965       Wyoming    M   \n",
      "3898  39.0    Male         Hoodie              45.343778      Illinois    S   \n",
      "3899  21.0  Female         Gloves              49.439181  North Dakota    M   \n",
      "\n",
      "             Color  Season Review Rating   Shipping Type Promo Code Used  \\\n",
      "0     Burnt orange    Fall           4.0        Standard              No   \n",
      "1        Turquoise  Winter           2.0         Express              No   \n",
      "2      Terra cotta  Winter           4.0        Standard              No   \n",
      "3            Black  Winter       Missing        Standard              No   \n",
      "4        Aubergine  Summer       Missing        Standard              No   \n",
      "...            ...     ...           ...             ...             ...   \n",
      "3895  Burnt orange    Fall       Missing  2-Day Shipping             Yes   \n",
      "3896     Aubergine  Winter           4.0  2-Day Shipping             Yes   \n",
      "3897       Fuchsia  Summer       Missing        Standard             Yes   \n",
      "3898     Brick red    Fall       Missing  2-Day Shipping             Yes   \n",
      "3899     Aubergine  Winter           4.0  2-Day Shipping             Yes   \n",
      "\n",
      "      Previous Purchases Payment Method  \n",
      "0                      0    Credit Card  \n",
      "1                      1    Credit Card  \n",
      "2                      0    Credit Card  \n",
      "3                      2    Credit Card  \n",
      "4                      0    Credit Card  \n",
      "...                  ...            ...  \n",
      "3895                   7          Venmo  \n",
      "3896                  20          Venmo  \n",
      "3897                  13          Venmo  \n",
      "3898                   3          Venmo  \n",
      "3899                   2          Venmo  \n",
      "\n",
      "[3900 rows x 13 columns]>\n"
     ]
    }
   ],
   "source": [
    "# TODO: print out the first 5 rows of this dataframe for validation\n",
    "\n",
    "print(dropped_df.describe)\n"
   ]
  },
  {
   "cell_type": "code",
   "execution_count": 14,
   "metadata": {},
   "outputs": [],
   "source": [
    "# TODO: write this newly transformed dataset to the `data/processed` folder. Name it \"shopping_cleaned.csv\" \n",
    "# Be sure to not include an additional index when writing this csv file\n",
    "# Documentation: https://pandas.pydata.org/docs/reference/api/pandas.DataFrame.to_csv.html\n",
    "\n",
    "#Need to check the Newly Created Data set  of <new_df_SampleSz> NEW NAME\" \"Shopping_Cleaned.CSV\"\n",
    "\n",
    "dropped_df.to_csv('shopping_cleaned.csv', index=False)"
   ]
  }
 ],
 "metadata": {
  "kernelspec": {
   "display_name": "Python 3",
   "language": "python",
   "name": "python3"
  },
  "language_info": {
   "codemirror_mode": {
    "name": "ipython",
    "version": 3
   },
   "file_extension": ".py",
   "mimetype": "text/x-python",
   "name": "python",
   "nbconvert_exporter": "python",
   "pygments_lexer": "ipython3",
   "version": "3.9.18"
  }
 },
 "nbformat": 4,
 "nbformat_minor": 2
}
