{
 "cells": [
  {
   "cell_type": "markdown",
   "metadata": {},
   "source": [
    "# Data Transformation I\n",
    "\n",
    "Next, we will begin transforming our dataset by dropping values. Our primary goal of this process is to:\n",
    "\n",
    "* drop rows with missing data\n",
    "* drop select columns with overwhelmingly missing data\n",
    "\n",
    "Utilize the documentation provided in each code-block. When you are done with this section of the project, validate that your output matches the screenshot provided in the `docs/part2.md` file."
   ]
  },
  {
   "cell_type": "code",
   "execution_count": 1,
   "metadata": {},
   "outputs": [],
   "source": [
    "import pandas as pd\n",
    "import numpy as np"
   ]
  },
  {
   "cell_type": "code",
   "execution_count": 2,
   "metadata": {},
   "outputs": [],
   "source": [
    "# TODO: load `data/raw/shopping.csv` as a pandas dataframe\n",
    "df=pd.read_csv('C:/Users/deema/Desktop/Lab4/shopping-behavior/data/raw/shopping.csv')  \n"
   ]
  },
  {
   "cell_type": "code",
   "execution_count": 3,
   "metadata": {},
   "outputs": [
    {
     "name": "stdout",
     "output_type": "stream",
     "text": [
      "(3900, 15)\n"
     ]
    }
   ],
   "source": [
    "# TODO: print out the shape of this dataframe for better clarity\n",
    "# Documentation: https://pandas.pydata.org/docs/reference/api/pandas.DataFrame.shape.html\n",
    "\n",
    "print(df.shape)"
   ]
  },
  {
   "cell_type": "code",
   "execution_count": 4,
   "metadata": {},
   "outputs": [
    {
     "data": {
      "text/plain": [
       "5589"
      ]
     },
     "execution_count": 4,
     "metadata": {},
     "output_type": "execute_result"
    }
   ],
   "source": [
    "# TODO: display how many null values are in each column of this dataframe\n",
    "# Documentation: https://datatofish.com/count-nan-pandas-dataframe/\n",
    "\n",
    "df.isna().sum().sum()\n",
    "#print(df)\n",
    "\n"
   ]
  },
  {
   "cell_type": "code",
   "execution_count": 5,
   "metadata": {},
   "outputs": [],
   "source": [
    "# TODO: it looks like there is roughly 65% of data missing \"Frequency of Purchases\". Drop this column, as it is mostly empty and unneeded for our analysis.\n",
    "# In addition, also drop \"Customer ID\" as this column is also unnecessary\n",
    "# Reassign this dropped dataframe as a new variable\n",
    "# Documentation: drive.google.com/drive/folders/1pAWY1JqIQw26uhtT272AoDDeq7jtbkm2\n",
    "\n",
    "#Drop columns \"Frequency of Purchases\" and \"Customer ID\" from the existing data frame\n",
    "df= df.drop(['Frequency of Purchases', 'Customer ID'], axis= 1)\n",
    "\n",
    "new_df_SampleSz = df"
   ]
  },
  {
   "cell_type": "code",
   "execution_count": 6,
   "metadata": {},
   "outputs": [
    {
     "name": "stdout",
     "output_type": "stream",
     "text": [
      "       Age  Gender Item Purchased  Purchase Amount (USD)      Location Size  \\\n",
      "0      NaN    Male         Jacket              30.904467         Maine    M   \n",
      "1     21.0  Female       Backpack              31.588259           NaN    L   \n",
      "2     31.0    Male       Leggings              24.231704        Nevada    M   \n",
      "3      NaN    Male        Pajamas              33.918834      Nebraska    M   \n",
      "4     38.0    Male     Sunglasses              36.545487        Oregon    S   \n",
      "...    ...     ...            ...                    ...           ...  ...   \n",
      "3895  43.0  Female     Sunglasses              61.610602      Colorado    S   \n",
      "3896  37.0    Male        Pajamas              44.600556        Alaska    S   \n",
      "3897   NaN  Female        Handbag              41.781965       Wyoming    M   \n",
      "3898  39.0    Male         Hoodie              45.343778      Illinois    S   \n",
      "3899  21.0  Female         Gloves              49.439181  North Dakota    M   \n",
      "\n",
      "             Color  Season  Review Rating   Shipping Type Promo Code Used  \\\n",
      "0     Burnt orange    Fall            4.0        Standard              No   \n",
      "1        Turquoise  Winter            2.0         Express              No   \n",
      "2      Terra cotta  Winter            4.0        Standard              No   \n",
      "3            Black  Winter            NaN        Standard              No   \n",
      "4        Aubergine  Summer            NaN        Standard              No   \n",
      "...            ...     ...            ...             ...             ...   \n",
      "3895  Burnt orange    Fall            NaN  2-Day Shipping             Yes   \n",
      "3896     Aubergine  Winter            4.0  2-Day Shipping             Yes   \n",
      "3897       Fuchsia  Summer            NaN        Standard             Yes   \n",
      "3898     Brick red    Fall            NaN  2-Day Shipping             Yes   \n",
      "3899     Aubergine  Winter            4.0  2-Day Shipping             Yes   \n",
      "\n",
      "      Previous Purchases Payment Method  \n",
      "0                      0    Credit Card  \n",
      "1                      1    Credit Card  \n",
      "2                      0    Credit Card  \n",
      "3                      2    Credit Card  \n",
      "4                      0    Credit Card  \n",
      "...                  ...            ...  \n",
      "3895                   7          Venmo  \n",
      "3896                  20          Venmo  \n",
      "3897                  13          Venmo  \n",
      "3898                   3          Venmo  \n",
      "3899                   2          Venmo  \n",
      "\n",
      "[3900 rows x 13 columns]\n"
     ]
    }
   ],
   "source": [
    "# TODO: print out the shape of this dataframe and verify that the shape is \"(3900, 13)\"\n",
    "\n",
    "print(new_df_SampleSz)\n",
    "#DF SIZE is Verified at (3900, 13)"
   ]
  },
  {
   "cell_type": "code",
   "execution_count": 7,
   "metadata": {},
   "outputs": [
    {
     "name": "stdout",
     "output_type": "stream",
     "text": [
      "          Age  Gender Item Purchased  Purchase Amount (USD)      Location  \\\n",
      "0     Present    Male         Jacket              30.904467         Maine   \n",
      "1        21.0  Female       Backpack              31.588259       Present   \n",
      "2        31.0    Male       Leggings              24.231704        Nevada   \n",
      "3     Present    Male        Pajamas              33.918834      Nebraska   \n",
      "4        38.0    Male     Sunglasses              36.545487        Oregon   \n",
      "...       ...     ...            ...                    ...           ...   \n",
      "3895     43.0  Female     Sunglasses              61.610602      Colorado   \n",
      "3896     37.0    Male        Pajamas              44.600556        Alaska   \n",
      "3897  Present  Female        Handbag              41.781965       Wyoming   \n",
      "3898     39.0    Male         Hoodie              45.343778      Illinois   \n",
      "3899     21.0  Female         Gloves              49.439181  North Dakota   \n",
      "\n",
      "     Size         Color  Season Review Rating   Shipping Type Promo Code Used  \\\n",
      "0       M  Burnt orange    Fall           4.0        Standard              No   \n",
      "1       L     Turquoise  Winter           2.0         Express              No   \n",
      "2       M   Terra cotta  Winter           4.0        Standard              No   \n",
      "3       M         Black  Winter       Present        Standard              No   \n",
      "4       S     Aubergine  Summer       Present        Standard              No   \n",
      "...   ...           ...     ...           ...             ...             ...   \n",
      "3895    S  Burnt orange    Fall       Present  2-Day Shipping             Yes   \n",
      "3896    S     Aubergine  Winter           4.0  2-Day Shipping             Yes   \n",
      "3897    M       Fuchsia  Summer       Present        Standard             Yes   \n",
      "3898    S     Brick red    Fall       Present  2-Day Shipping             Yes   \n",
      "3899    M     Aubergine  Winter           4.0  2-Day Shipping             Yes   \n",
      "\n",
      "      Previous Purchases Payment Method  \n",
      "0                      0    Credit Card  \n",
      "1                      1    Credit Card  \n",
      "2                      0    Credit Card  \n",
      "3                      2    Credit Card  \n",
      "4                      0    Credit Card  \n",
      "...                  ...            ...  \n",
      "3895                   7          Venmo  \n",
      "3896                  20          Venmo  \n",
      "3897                  13          Venmo  \n",
      "3898                   3          Venmo  \n",
      "3899                   2          Venmo  \n",
      "\n",
      "[3900 rows x 13 columns]\n"
     ]
    }
   ],
   "source": [
    "# TODO: while \"Review Rating\" is also mostly empty, we are interested in figuring out why some users\n",
    "# leave reviews and others don't. \n",
    "\n",
    "# Therefore we will NOT drop this column. Instead, let's reassign \n",
    "# all missing values in \"Review Rating\" with \"Missing\", and all non-na values as \"Present\"\n",
    "# Documentation: https://pandas.pydata.org/docs/reference/api/pandas.DataFrame.replace.html\n",
    "\n",
    "#Reassign all Missing Values to \"Missing\" and all NAN values as \"Present\"\n",
    "\n",
    "new_df_SampleSz = df.fillna('Present') \n",
    "print(new_df_SampleSz)\n",
    "\n"
   ]
  },
  {
   "cell_type": "code",
   "execution_count": 8,
   "metadata": {},
   "outputs": [
    {
     "name": "stdout",
     "output_type": "stream",
     "text": [
      "        Age  Gender  Item Purchased  Purchase Amount (USD)  Location  Size  \\\n",
      "0     False    True            True                   True      True  True   \n",
      "1      True    True            True                   True     False  True   \n",
      "2      True    True            True                   True      True  True   \n",
      "3     False    True            True                   True      True  True   \n",
      "4      True    True            True                   True      True  True   \n",
      "...     ...     ...             ...                    ...       ...   ...   \n",
      "3895   True    True            True                   True      True  True   \n",
      "3896   True    True            True                   True      True  True   \n",
      "3897  False    True            True                   True      True  True   \n",
      "3898   True    True            True                   True      True  True   \n",
      "3899   True    True            True                   True      True  True   \n",
      "\n",
      "      Color  Season  Review Rating  Shipping Type  Promo Code Used  \\\n",
      "0      True    True           True           True             True   \n",
      "1      True    True           True           True             True   \n",
      "2      True    True           True           True             True   \n",
      "3      True    True          False           True             True   \n",
      "4      True    True          False           True             True   \n",
      "...     ...     ...            ...            ...              ...   \n",
      "3895   True    True          False           True             True   \n",
      "3896   True    True           True           True             True   \n",
      "3897   True    True          False           True             True   \n",
      "3898   True    True          False           True             True   \n",
      "3899   True    True           True           True             True   \n",
      "\n",
      "      Previous Purchases  Payment Method  \n",
      "0                   True            True  \n",
      "1                   True            True  \n",
      "2                   True            True  \n",
      "3                   True            True  \n",
      "4                   True            True  \n",
      "...                  ...             ...  \n",
      "3895                True            True  \n",
      "3896                True            True  \n",
      "3897                True            True  \n",
      "3898                True            True  \n",
      "3899                True            True  \n",
      "\n",
      "[3900 rows x 13 columns]\n",
      "      Gender Item Purchased  Purchase Amount (USD) Size         Color  Season  \\\n",
      "0       Male         Jacket              30.904467    M  Burnt orange    Fall   \n",
      "1     Female       Backpack              31.588259    L     Turquoise  Winter   \n",
      "2       Male       Leggings              24.231704    M   Terra cotta  Winter   \n",
      "3       Male        Pajamas              33.918834    M         Black  Winter   \n",
      "4       Male     Sunglasses              36.545487    S     Aubergine  Summer   \n",
      "...      ...            ...                    ...  ...           ...     ...   \n",
      "3895  Female     Sunglasses              61.610602    S  Burnt orange    Fall   \n",
      "3896    Male        Pajamas              44.600556    S     Aubergine  Winter   \n",
      "3897  Female        Handbag              41.781965    M       Fuchsia  Summer   \n",
      "3898    Male         Hoodie              45.343778    S     Brick red    Fall   \n",
      "3899  Female         Gloves              49.439181    M     Aubergine  Winter   \n",
      "\n",
      "       Shipping Type Promo Code Used Payment Method  \n",
      "0           Standard              No    Credit Card  \n",
      "1            Express              No    Credit Card  \n",
      "2           Standard              No    Credit Card  \n",
      "3           Standard              No    Credit Card  \n",
      "4           Standard              No    Credit Card  \n",
      "...              ...             ...            ...  \n",
      "3895  2-Day Shipping             Yes          Venmo  \n",
      "3896  2-Day Shipping             Yes          Venmo  \n",
      "3897        Standard             Yes          Venmo  \n",
      "3898  2-Day Shipping             Yes          Venmo  \n",
      "3899  2-Day Shipping             Yes          Venmo  \n",
      "\n",
      "[3900 rows x 9 columns]\n"
     ]
    }
   ],
   "source": [
    "# TODO: Now that we've dropped and transformed our columns, drop the remaining rows that contain missing values\n",
    "# Documentation: https://pandas.pydata.org/docs/referen\"ce/api/pandas.DataFrame.dropna.html\n",
    "#Find null values. Found that \"Location is the only other column\n",
    "\n",
    "print(df.notna())\n",
    "\n",
    "new_df_SampleSz = df.drop(['Previous Purchases','Location','Age','Review Rating'], axis= 1)\n",
    "print(new_df_SampleSz)\n"
   ]
  },
  {
   "cell_type": "code",
   "execution_count": 9,
   "metadata": {},
   "outputs": [
    {
     "name": "stdout",
     "output_type": "stream",
     "text": [
      "      Gender  Item Purchased  Purchase Amount (USD)  Size  Color  Season  \\\n",
      "0       True            True                   True  True   True    True   \n",
      "1       True            True                   True  True   True    True   \n",
      "2       True            True                   True  True   True    True   \n",
      "3       True            True                   True  True   True    True   \n",
      "4       True            True                   True  True   True    True   \n",
      "...      ...             ...                    ...   ...    ...     ...   \n",
      "3895    True            True                   True  True   True    True   \n",
      "3896    True            True                   True  True   True    True   \n",
      "3897    True            True                   True  True   True    True   \n",
      "3898    True            True                   True  True   True    True   \n",
      "3899    True            True                   True  True   True    True   \n",
      "\n",
      "      Shipping Type  Promo Code Used  Payment Method  \n",
      "0              True             True            True  \n",
      "1              True             True            True  \n",
      "2              True             True            True  \n",
      "3              True             True            True  \n",
      "4              True             True            True  \n",
      "...             ...              ...             ...  \n",
      "3895           True             True            True  \n",
      "3896           True             True            True  \n",
      "3897           True             True            True  \n",
      "3898           True             True            True  \n",
      "3899           True             True            True  \n",
      "\n",
      "[3900 rows x 9 columns]\n"
     ]
    }
   ],
   "source": [
    "# TODO: display how many null values are in each column of this dataframe\n",
    "# validate that each column has no missing values\n",
    "\n",
    "#Verify that there are no missing values\n",
    "print(new_df_SampleSz.notna())"
   ]
  },
  {
   "cell_type": "code",
   "execution_count": 27,
   "metadata": {},
   "outputs": [
    {
     "name": "stdout",
     "output_type": "stream",
     "text": [
      "(3900, 9)\n"
     ]
    }
   ],
   "source": [
    "# TODO: print out the shape of this dataframe and verify that the shape is \"(3158, 13)\"\n",
    "# Check this again.. dogon Not sure what I'm doing wrong...11-22-23 (3900, 9)\n",
    "print(new_df_SampleSz.shape)"
   ]
  },
  {
   "cell_type": "code",
   "execution_count": 29,
   "metadata": {},
   "outputs": [
    {
     "name": "stdout",
     "output_type": "stream",
     "text": [
      "<bound method NDFrame.describe of       Gender Item Purchased  Purchase Amount (USD) Size         Color  Season  \\\n",
      "0       Male         Jacket              30.904467    M  Burnt orange    Fall   \n",
      "1     Female       Backpack              31.588259    L     Turquoise  Winter   \n",
      "2       Male       Leggings              24.231704    M   Terra cotta  Winter   \n",
      "3       Male        Pajamas              33.918834    M         Black  Winter   \n",
      "4       Male     Sunglasses              36.545487    S     Aubergine  Summer   \n",
      "...      ...            ...                    ...  ...           ...     ...   \n",
      "3895  Female     Sunglasses              61.610602    S  Burnt orange    Fall   \n",
      "3896    Male        Pajamas              44.600556    S     Aubergine  Winter   \n",
      "3897  Female        Handbag              41.781965    M       Fuchsia  Summer   \n",
      "3898    Male         Hoodie              45.343778    S     Brick red    Fall   \n",
      "3899  Female         Gloves              49.439181    M     Aubergine  Winter   \n",
      "\n",
      "       Shipping Type Promo Code Used Payment Method  \n",
      "0           Standard              No    Credit Card  \n",
      "1            Express              No    Credit Card  \n",
      "2           Standard              No    Credit Card  \n",
      "3           Standard              No    Credit Card  \n",
      "4           Standard              No    Credit Card  \n",
      "...              ...             ...            ...  \n",
      "3895  2-Day Shipping             Yes          Venmo  \n",
      "3896  2-Day Shipping             Yes          Venmo  \n",
      "3897        Standard             Yes          Venmo  \n",
      "3898  2-Day Shipping             Yes          Venmo  \n",
      "3899  2-Day Shipping             Yes          Venmo  \n",
      "\n",
      "[3900 rows x 9 columns]>\n"
     ]
    }
   ],
   "source": [
    "# TODO: print out the first 5 rows of this dataframe for validation\n",
    "\n",
    "print(new_df_SampleSz.describe)\n"
   ]
  },
  {
   "cell_type": "code",
   "execution_count": 15,
   "metadata": {},
   "outputs": [
    {
     "name": "stdout",
     "output_type": "stream",
     "text": [
      "Backup DataFrame 'new_df_SampleSz' exists.\n"
     ]
    }
   ],
   "source": [
    "#Debugging to find out why rows are still remaining\n",
    "\n",
    "#Save df to a csv file\n",
    "\n",
    "\n",
    "\n",
    "#Original df\n",
    "#df_backup = df.copy()\n",
    "\n",
    "#Making a copy of the modified df\n",
    "new_df_SampleSz = df.copy()\n",
    "\n",
    "# Check if 'df_backup' exists\n",
    "if 'new_df_SampleSz' in locals():\n",
    "    print(\"Backup DataFrame 'new_df_SampleSz' exists.\")\n",
    "else:\n",
    "    print(\"Backup DataFrame 'new_df_SampleSz' does not exist.\")\n",
    "\n"
   ]
  },
  {
   "cell_type": "code",
   "execution_count": 17,
   "metadata": {},
   "outputs": [],
   "source": [
    "# TODO: write this newly transformed dataset to the `data/processed` folder. Name it \"shopping_cleaned.csv\" \n",
    "# Be sure to not include an additional index when writing this csv file\n",
    "# Documentation: https://pandas.pydata.org/docs/reference/api/pandas.DataFrame.to_csv.html\n",
    "\n",
    "#Need to check the Newly Created Data set  of <new_df_SampleSz> NEW NAME\" \"Shopping_Cleaned.CSV\"\n",
    "\n",
    "new_df_SampleSz.to_csv('shopping_cleaned.csv', index=False)"
   ]
  }
 ],
 "metadata": {
  "kernelspec": {
   "display_name": "Python 3",
   "language": "python",
   "name": "python3"
  },
  "language_info": {
   "codemirror_mode": {
    "name": "ipython",
    "version": 3
   },
   "file_extension": ".py",
   "mimetype": "text/x-python",
   "name": "python",
   "nbconvert_exporter": "python",
   "pygments_lexer": "ipython3",
   "version": "3.9.18"
  }
 },
 "nbformat": 4,
 "nbformat_minor": 2
}
