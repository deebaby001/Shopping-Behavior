{
 "cells": [
  {
   "cell_type": "markdown",
   "metadata": {},
   "source": [
    "# Data Transformation I\n",
    "\n",
    "Next, we will begin transforming our dataset by dropping values. Our primary goal of this process is to:\n",
    "\n",
    "* drop rows with missing data\n",
    "* drop select columns with overwhelmingly missing data\n",
    "\n",
    "Utilize the documentation provided in each code-block. When you are done with this section of the project, validate that your output matches the screenshot provided in the `docs/part2.md` file."
   ]
  },
  {
   "cell_type": "code",
   "execution_count": 24,
   "metadata": {},
   "outputs": [],
   "source": [
    "import pandas as pd\n",
    "import numpy as np"
   ]
  },
  {
   "cell_type": "code",
   "execution_count": 25,
   "metadata": {},
   "outputs": [],
   "source": [
    "# TODO: load `data/raw/shopping.csv` as a pandas dataframe\n",
    "df=pd.read_csv('C:/Users/deema/Desktop/Lab4/shopping-behavior/data/raw/shopping.csv')  \n",
    "\n",
    "\n",
    "#Make a back up copy of the Original Data Frame\n",
    "df_copy = df.copy()"
   ]
  },
  {
   "cell_type": "code",
   "execution_count": 26,
   "metadata": {},
   "outputs": [
    {
     "name": "stdout",
     "output_type": "stream",
     "text": [
      "(3900, 15)\n"
     ]
    }
   ],
   "source": [
    "# TODO: print out the shape of this dataframe for better clarity\n",
    "# Documentation: https://pandas.pydata.org/docs/reference/api/pandas.DataFrame.shape.html\n",
    "\n",
    "print(df.shape)"
   ]
  },
  {
   "cell_type": "code",
   "execution_count": 27,
   "metadata": {},
   "outputs": [
    {
     "data": {
      "text/plain": [
       "5589"
      ]
     },
     "execution_count": 27,
     "metadata": {},
     "output_type": "execute_result"
    }
   ],
   "source": [
    "# TODO: display how many null values are in each column of this dataframe\n",
    "# Documentation: https://datatofish.com/count-nan-pandas-dataframe/\n",
    "\n",
    "\n",
    "df.isna().sum().sum()\n",
    "\n"
   ]
  },
  {
   "cell_type": "code",
   "execution_count": 28,
   "metadata": {},
   "outputs": [],
   "source": [
    "# TODO: it looks like there is roughly 65% of data missing \"Frequency of Purchases\". Drop this column, as it is mostly empty and unneeded for our analysis.\n",
    "# In addition, also drop \"Customer ID\" as this column is also unnecessary\n",
    "# Reassign this dropped dataframe as a new variable\n",
    "# Documentation: drive.google.com/drive/folders/1pAWY1JqIQw26uhtT272AoDDeq7jtbkm2\n",
    "\n",
    "#Drop columns \"Frequency of Purchases\" and \"Customer ID\" from the existing data frame\n",
    "\n",
    "\n",
    "new_9df_SampleSz = df.drop(['Frequency of Purchases', 'Customer ID'], axis= 1)\n",
    "\n"
   ]
  },
  {
   "cell_type": "code",
   "execution_count": 29,
   "metadata": {},
   "outputs": [
    {
     "name": "stdout",
     "output_type": "stream",
     "text": [
      "(3900, 13)\n"
     ]
    }
   ],
   "source": [
    "# TODO: print out the shape of this dataframe and verify that the shape is \"(3900, 13)\"\n",
    "\n",
    "print(new_9df_SampleSz.shape)\n",
    "\n",
    "#print(df)\n",
    "\n",
    "#DF SIZE is Verified at (3900, 13)"
   ]
  },
  {
   "cell_type": "code",
   "execution_count": 30,
   "metadata": {},
   "outputs": [
    {
     "data": {
      "text/plain": [
       "0       Present\n",
       "1       Present\n",
       "2       Present\n",
       "3       Missing\n",
       "4       Missing\n",
       "         ...   \n",
       "3895    Missing\n",
       "3896    Present\n",
       "3897    Missing\n",
       "3898    Missing\n",
       "3899    Present\n",
       "Name: Review Rating, Length: 3900, dtype: object"
      ]
     },
     "execution_count": 30,
     "metadata": {},
     "output_type": "execute_result"
    }
   ],
   "source": [
    "# TODO: while \"Review Rating\" is also mostly empty, we are interested in figuring out why some users\n",
    "# leave reviews and others don't. \n",
    "\n",
    "# Therefore we will NOT drop this column. Instead, let's reassign new_8df_SampleSz\n",
    "# all missing values in \"Review Rating\" with \"Missing\", and all non-na values as \"Present\"\n",
    "# Documentation: https://pandas.pydata.org/docs/reference/api/pandas.DataFrame.replace.html\n",
    "\n",
    "#Reassign all Missing Values to \"Missing\" and \n",
    "#all NAN values as \"Present\"\n",
    "\n",
    "\n",
    "new_9df_SampleSz['Review Rating'] = new_9df_SampleSz['Review Rating'].where(new_9df_SampleSz['Review Rating'].isna(), 'Present')\n",
    "\n",
    "new_9df_SampleSz['Review Rating'].fillna('Missing')\n",
    "\n",
    "\n"
   ]
  },
  {
   "cell_type": "code",
   "execution_count": 31,
   "metadata": {},
   "outputs": [
    {
     "name": "stdout",
     "output_type": "stream",
     "text": [
      "      Customer ID   Age  Gender Item Purchased  Purchase Amount (USD)  \\\n",
      "8            3353  25.0  Female         Jacket              31.595005   \n",
      "13           1722  32.0  Female        Handbag              34.151352   \n",
      "17           3638  45.0    Male        Handbag              23.929249   \n",
      "18           3738  34.0  Female  Running Shoes              33.052216   \n",
      "20           2586  35.0    Male         Hoodie              29.422895   \n",
      "...           ...   ...     ...            ...                    ...   \n",
      "1865         3547  35.0  Female         Shorts              36.611205   \n",
      "1867         2043  29.0    Male         Shorts              25.227779   \n",
      "1871         2388  27.0    Male       Backpack              34.595718   \n",
      "1876         2557  38.0    Male        T-shirt              35.622596   \n",
      "1878         2464  59.0    Male        Handbag              36.964494   \n",
      "\n",
      "         Location Size        Color  Season  Review Rating Shipping Type  \\\n",
      "8      Washington    M        Mauve    Fall            4.0      Standard   \n",
      "13       Delaware    S        White  Summer            4.0      Standard   \n",
      "17           Utah    L      Fuchsia  Spring            5.0      Standard   \n",
      "18       Kentucky    S      Fuchsia  Spring            5.0      Standard   \n",
      "20      Wisconsin    L  Terra cotta    Fall            4.0       Express   \n",
      "...           ...  ...          ...     ...            ...           ...   \n",
      "1865       Kansas    M        White  Summer            2.0       Express   \n",
      "1867      Alabama    M      Fuchsia  Spring            5.0  Next Day Air   \n",
      "1871    Tennessee    M     Ruby Red  Winter            4.0      Standard   \n",
      "1876      Montana   XL   Pale peach  Summer            4.0      Standard   \n",
      "1878  Mississippi   XL        White  Summer            5.0      Standard   \n",
      "\n",
      "     Promo Code Used  Previous Purchases Payment Method Frequency of Purchases  \n",
      "8                 No                   4    Credit Card              Quarterly  \n",
      "13                No                  11    Credit Card                Monthly  \n",
      "17                No                   3    Credit Card              Quarterly  \n",
      "18                No                   2    Credit Card              Quarterly  \n",
      "20                No                   2    Credit Card               Annually  \n",
      "...              ...                 ...            ...                    ...  \n",
      "1865              No                   2         PayPal              Quarterly  \n",
      "1867              No                   7         PayPal                Monthly  \n",
      "1871              No                   3         PayPal              Quarterly  \n",
      "1876              No                   5         PayPal              Quarterly  \n",
      "1878              No                   3         PayPal               Annually  \n",
      "\n",
      "[479 rows x 15 columns]\n"
     ]
    }
   ],
   "source": [
    "# TODO: Now that we've dropped and transformed our columns, drop the remaining rows that contain missing values\n",
    "# Documentation: https://pandas.pydata.org/docs/reference/api/pandas.DataFrame.dropna.html\n",
    "#Find null values. Found that \"Location is the only other column\n",
    "\n",
    "new_9df_SampleSz = df.dropna()\n",
    "print(new_9df_SampleSz)\n"
   ]
  },
  {
   "cell_type": "code",
   "execution_count": 32,
   "metadata": {},
   "outputs": [
    {
     "name": "stdout",
     "output_type": "stream",
     "text": [
      "Customer ID               0\n",
      "Age                       0\n",
      "Gender                    0\n",
      "Item Purchased            0\n",
      "Purchase Amount (USD)     0\n",
      "Location                  0\n",
      "Size                      0\n",
      "Color                     0\n",
      "Season                    0\n",
      "Review Rating             0\n",
      "Shipping Type             0\n",
      "Promo Code Used           0\n",
      "Previous Purchases        0\n",
      "Payment Method            0\n",
      "Frequency of Purchases    0\n",
      "dtype: int64\n"
     ]
    }
   ],
   "source": [
    "# TODO: display how many null values are in each column of this dataframe\n",
    "# validate that each column has no missing values\n",
    "\n",
    "print(new_8df_SampleSz.isna().sum())\n"
   ]
  },
  {
   "cell_type": "code",
   "execution_count": 33,
   "metadata": {},
   "outputs": [
    {
     "name": "stdout",
     "output_type": "stream",
     "text": [
      "      Customer ID   Age  Gender Item Purchased  Purchase Amount (USD)  \\\n",
      "8            3353  25.0  Female         Jacket              31.595005   \n",
      "13           1722  32.0  Female        Handbag              34.151352   \n",
      "17           3638  45.0    Male        Handbag              23.929249   \n",
      "18           3738  34.0  Female  Running Shoes              33.052216   \n",
      "20           2586  35.0    Male         Hoodie              29.422895   \n",
      "...           ...   ...     ...            ...                    ...   \n",
      "1865         3547  35.0  Female         Shorts              36.611205   \n",
      "1867         2043  29.0    Male         Shorts              25.227779   \n",
      "1871         2388  27.0    Male       Backpack              34.595718   \n",
      "1876         2557  38.0    Male        T-shirt              35.622596   \n",
      "1878         2464  59.0    Male        Handbag              36.964494   \n",
      "\n",
      "         Location Size        Color  Season  Review Rating Shipping Type  \\\n",
      "8      Washington    M        Mauve    Fall            4.0      Standard   \n",
      "13       Delaware    S        White  Summer            4.0      Standard   \n",
      "17           Utah    L      Fuchsia  Spring            5.0      Standard   \n",
      "18       Kentucky    S      Fuchsia  Spring            5.0      Standard   \n",
      "20      Wisconsin    L  Terra cotta    Fall            4.0       Express   \n",
      "...           ...  ...          ...     ...            ...           ...   \n",
      "1865       Kansas    M        White  Summer            2.0       Express   \n",
      "1867      Alabama    M      Fuchsia  Spring            5.0  Next Day Air   \n",
      "1871    Tennessee    M     Ruby Red  Winter            4.0      Standard   \n",
      "1876      Montana   XL   Pale peach  Summer            4.0      Standard   \n",
      "1878  Mississippi   XL        White  Summer            5.0      Standard   \n",
      "\n",
      "     Promo Code Used  Previous Purchases Payment Method Frequency of Purchases  \n",
      "8                 No                   4    Credit Card              Quarterly  \n",
      "13                No                  11    Credit Card                Monthly  \n",
      "17                No                   3    Credit Card              Quarterly  \n",
      "18                No                   2    Credit Card              Quarterly  \n",
      "20                No                   2    Credit Card               Annually  \n",
      "...              ...                 ...            ...                    ...  \n",
      "1865              No                   2         PayPal              Quarterly  \n",
      "1867              No                   7         PayPal                Monthly  \n",
      "1871              No                   3         PayPal              Quarterly  \n",
      "1876              No                   5         PayPal              Quarterly  \n",
      "1878              No                   3         PayPal               Annually  \n",
      "\n",
      "[479 rows x 15 columns]\n"
     ]
    }
   ],
   "source": [
    "# TODO: print out the shape of this dataframe and verify that the shape is \"(3158, 13)\"\n",
    "\n",
    "print(new_9df_SampleSz)"
   ]
  },
  {
   "cell_type": "code",
   "execution_count": 34,
   "metadata": {},
   "outputs": [
    {
     "name": "stdout",
     "output_type": "stream",
     "text": [
      "<bound method NDFrame.describe of       Customer ID   Age  Gender Item Purchased  Purchase Amount (USD)  \\\n",
      "8            3353  25.0  Female         Jacket              31.595005   \n",
      "13           1722  32.0  Female        Handbag              34.151352   \n",
      "17           3638  45.0    Male        Handbag              23.929249   \n",
      "18           3738  34.0  Female  Running Shoes              33.052216   \n",
      "20           2586  35.0    Male         Hoodie              29.422895   \n",
      "...           ...   ...     ...            ...                    ...   \n",
      "1865         3547  35.0  Female         Shorts              36.611205   \n",
      "1867         2043  29.0    Male         Shorts              25.227779   \n",
      "1871         2388  27.0    Male       Backpack              34.595718   \n",
      "1876         2557  38.0    Male        T-shirt              35.622596   \n",
      "1878         2464  59.0    Male        Handbag              36.964494   \n",
      "\n",
      "         Location Size        Color  Season  Review Rating Shipping Type  \\\n",
      "8      Washington    M        Mauve    Fall            4.0      Standard   \n",
      "13       Delaware    S        White  Summer            4.0      Standard   \n",
      "17           Utah    L      Fuchsia  Spring            5.0      Standard   \n",
      "18       Kentucky    S      Fuchsia  Spring            5.0      Standard   \n",
      "20      Wisconsin    L  Terra cotta    Fall            4.0       Express   \n",
      "...           ...  ...          ...     ...            ...           ...   \n",
      "1865       Kansas    M        White  Summer            2.0       Express   \n",
      "1867      Alabama    M      Fuchsia  Spring            5.0  Next Day Air   \n",
      "1871    Tennessee    M     Ruby Red  Winter            4.0      Standard   \n",
      "1876      Montana   XL   Pale peach  Summer            4.0      Standard   \n",
      "1878  Mississippi   XL        White  Summer            5.0      Standard   \n",
      "\n",
      "     Promo Code Used  Previous Purchases Payment Method Frequency of Purchases  \n",
      "8                 No                   4    Credit Card              Quarterly  \n",
      "13                No                  11    Credit Card                Monthly  \n",
      "17                No                   3    Credit Card              Quarterly  \n",
      "18                No                   2    Credit Card              Quarterly  \n",
      "20                No                   2    Credit Card               Annually  \n",
      "...              ...                 ...            ...                    ...  \n",
      "1865              No                   2         PayPal              Quarterly  \n",
      "1867              No                   7         PayPal                Monthly  \n",
      "1871              No                   3         PayPal              Quarterly  \n",
      "1876              No                   5         PayPal              Quarterly  \n",
      "1878              No                   3         PayPal               Annually  \n",
      "\n",
      "[479 rows x 15 columns]>\n"
     ]
    }
   ],
   "source": [
    "# TODO: print out the first 5 rows of this dataframe for validation\n",
    "\n",
    "print(new_8df_SampleSz.describe)\n"
   ]
  },
  {
   "cell_type": "code",
   "execution_count": 35,
   "metadata": {},
   "outputs": [],
   "source": [
    "# TODO: write this newly transformed dataset to the `data/processed` folder. Name it \"shopping_cleaned.csv\" \n",
    "# Be sure to not include an additional index when writing this csv file\n",
    "# Documentation: https://pandas.pydata.org/docs/reference/api/pandas.DataFrame.to_csv.html\n",
    "\n",
    "#Need to check the Newly Created Data set  of <new_df_SampleSz> NEW NAME\" \"Shopping_Cleaned.CSV\"\n",
    "\n",
    "new_9df_SampleSz.to_csv('shopping_cleaned.csv', index=False)"
   ]
  }
 ],
 "metadata": {
  "kernelspec": {
   "display_name": "Python 3",
   "language": "python",
   "name": "python3"
  },
  "language_info": {
   "codemirror_mode": {
    "name": "ipython",
    "version": 3
   },
   "file_extension": ".py",
   "mimetype": "text/x-python",
   "name": "python",
   "nbconvert_exporter": "python",
   "pygments_lexer": "ipython3",
   "version": "3.9.18"
  }
 },
 "nbformat": 4,
 "nbformat_minor": 2
}
